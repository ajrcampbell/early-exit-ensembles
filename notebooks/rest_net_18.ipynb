{
 "cells": [
  {
   "cell_type": "code",
   "execution_count": 1,
   "metadata": {},
   "outputs": [],
   "source": [
    "import sys\n",
    "sys.path.append(\"../\")\n",
    "\n",
    "from src.loaders import get_dataloaders"
   ]
  },
  {
   "cell_type": "code",
   "execution_count": 2,
   "metadata": {},
   "outputs": [
    {
     "name": "stdout",
     "output_type": "stream",
     "text": [
      "9315\n",
      "1035\n",
      "1150\n"
     ]
    }
   ],
   "source": [
    "dataloaders = get_dataloaders(name=\"eeg_epilepsy\", data_dir=\"../data\", valid_prop=0.10, test_prop=0.10, batch_size=100)\n",
    "trainloader, validloader, testloader = dataloaders[\"train\"], dataloaders[\"valid\"], dataloaders[\"test\"]\n",
    "\n",
    "print(len(trainloader.dataset))\n",
    "print(len(validloader.dataset))\n",
    "print(len(testloader.dataset))"
   ]
  },
  {
   "cell_type": "code",
   "execution_count": null,
   "metadata": {},
   "outputs": [],
   "source": []
  }
 ],
 "metadata": {
  "interpreter": {
   "hash": "66a71c2c9ffa3924239c8905ed2ca2ce1f9cf3e36e063290fdec1b44f8e57a20"
  },
  "kernelspec": {
   "display_name": "Python 3.7.0 64-bit ('EarlyExitsUncertainty-pF2rugkq-python': pipenv)",
   "language": "python",
   "name": "python3"
  },
  "language_info": {
   "codemirror_mode": {
    "name": "ipython",
    "version": 3
   },
   "file_extension": ".py",
   "mimetype": "text/x-python",
   "name": "python",
   "nbconvert_exporter": "python",
   "pygments_lexer": "ipython3",
   "version": "3.7.0"
  },
  "orig_nbformat": 4
 },
 "nbformat": 4,
 "nbformat_minor": 2
}
